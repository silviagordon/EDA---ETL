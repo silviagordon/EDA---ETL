{
 "cells": [
  {
   "attachments": {},
   "cell_type": "markdown",
   "metadata": {},
   "source": [
    "# Ejercicios Pair Programming - Módulo 2 Sprint 2\n",
    "## Lección 14 - ETL I"
   ]
  },
  {
   "attachments": {},
   "cell_type": "markdown",
   "metadata": {},
   "source": [
    "Vamos a nutrir los datos de los ataques de los tiburones con información climática de los paises que tenemos. Para eso vamos a usar la API del clima que hemos aprendido en la clase invertida:\n",
    "\n",
    "url = f'http://www.7timer.info/bin/api.pl?lon=-{lon}&lat={lat}&product={producto}&output=json'\n",
    "\n",
    "En este caso os recomendamos que uséis el producto meteo para obtener la información climática. Para hacer la llamada a la API necesitamos también las coordenadas de los paises que tenemos en el dataset.\n",
    "\n",
    "Por lo tanto, el objetivo es que saquéis la información del clima de la API para los paises que tenemos. Pero antes de poneros manos a la obra, tenemos muchísimos países y esto puede hacerse eterno. Sacad la información climática solo para los siguientes países, con las siguientes coordenadas:\n",
    "\n",
    "USA\n",
    "39.7837304\n",
    "-100.445882\n",
    "\n",
    "Australia\n",
    "-24.7761086\n",
    "134.755\n",
    "\n",
    "South Africa\n",
    "-28.8166236\n",
    "24.991639\n",
    "\n",
    "New Zealand\n",
    "-41.5000831\n",
    "172.8344077\n",
    "\n",
    "Papua New Guinea\n",
    "-5.6816069\n",
    "144.2489081"
   ]
  },
  {
   "cell_type": "code",
   "execution_count": 194,
   "metadata": {},
   "outputs": [],
   "source": [
    "import pandas as pd\n",
    "import requests\n"
   ]
  },
  {
   "attachments": {},
   "cell_type": "markdown",
   "metadata": {},
   "source": [
    "Requisitos de este ejercicio de pair programming:\n",
    "\n",
    "Deberéis meter toda la información climática en un único dataframe.\n",
    "\n",
    "Deberéis hacer la llamada a la API de una sola vez. Es decir, tendréis que iterar por la lista de países y sacar la información del clima para cada uno de ellos.\n",
    "\n",
    "Al meter toda la información en un único dataframe tendremos que crear una columna que corresponda con el nombre del país.\n",
    "\n",
    "Guardar el dataframe obtenido para usarlo en la siguiente sesión de pair programming.\n",
    "\n",
    "💡 Pistas 💡:"
   ]
  },
  {
   "attachments": {},
   "cell_type": "markdown",
   "metadata": {},
   "source": [
    "Crearos un diccionario donde:\n",
    "\n",
    "Las keys sean los nombres de los paises\n",
    "\n",
    "Los values sean las coordenadas de los paises en formato lista.\n",
    "\n",
    "Iterar por el diccionario. Dentro del for haremos la llamada a la API como hemos aprendido en las clases invertidas. Recordamos que para iterar por el diccionario tenemos que seguir la siguiente estructura:\n",
    "\n",
    "for key, value in diccionario.items():\n",
    "    print(key, value)\n",
    "\n",
    "Crearnos un dataframe vacío donde iremos concatenando los datos obtenidos de la API cada país.\n",
    "\n",
    "Guardad el csv ya que mañana lo necesitaremos para hacer el ejercicio de pair programming.\n",
    "\n",
    "Happy coding 🦈"
   ]
  },
  {
   "cell_type": "code",
   "execution_count": 195,
   "metadata": {},
   "outputs": [],
   "source": [
    "diccionario_paises = {\"usa\":[39.7837304, -100.445882], \"australia\":[-24.7761086, 134.755], \"south africa\":[-28.8166236, 24.991639], \"new zealand\":[-41.5000831, 172.8344077], \"papua new guinea\":[-5.6816069, 144.2489081]}"
   ]
  },
  {
   "cell_type": "code",
   "execution_count": 196,
   "metadata": {},
   "outputs": [],
   "source": [
    "df_meteo= pd.DataFrame()"
   ]
  },
  {
   "cell_type": "code",
   "execution_count": 197,
   "metadata": {},
   "outputs": [
    {
     "name": "stdout",
     "output_type": "stream",
     "text": [
      "La peticion se ha realizado correctamente, se ha devuelto el código de estado: 200  y como razón del código de estado:  OK\n",
      "La peticion se ha realizado correctamente, se ha devuelto el código de estado: 200  y como razón del código de estado:  OK\n",
      "La peticion se ha realizado correctamente, se ha devuelto el código de estado: 200  y como razón del código de estado:  OK\n",
      "La peticion se ha realizado correctamente, se ha devuelto el código de estado: 200  y como razón del código de estado:  OK\n",
      "La peticion se ha realizado correctamente, se ha devuelto el código de estado: 200  y como razón del código de estado:  OK\n"
     ]
    }
   ],
   "source": [
    "    \n",
    "for k,v in diccionario_paises.items():\n",
    "        df_meteo1 = pd.DataFrame()\n",
    "        # Los values de latitud y longitud serían = latitud: v[0] y longitud: v[1]. \n",
    "        producto = \"meteo\"\n",
    "        response = requests.get(url = f'http://www.7timer.info/bin/api.pl?lon=-{v[1]}&lat={v[0]}&product={producto}&output=json') \n",
    "        df_meteo1 = pd.DataFrame.from_dict(pd.json_normalize(response.json()[\"dataseries\"]))\n",
    "        df_meteo1[\"pais\"] = k\n",
    "\n",
    "        df_meteo = pd.concat([df_meteo1, df_meteo], axis=0, ignore_index=True) \n",
    "        \n",
    "        if response.status_code == 200:\n",
    "            print('La peticion se ha realizado correctamente, se ha devuelto el código de estado:',response.status_code,' y como razón del código de estado: ',response.reason)\n",
    "        elif response.status_code == 402:\n",
    "            print('No se ha podido autorizar usario, se ha devuelto el código de estado:', response.status_code,' y como razón del código de estado: ',response.reason)\n",
    "        elif response.status_code == 404:\n",
    "            print('Algo ha salido mal, el recurso no se ha encontrado,se ha devuelto el código de estado:', response.status_code,' y como razón del código de estado: ',response.reason)\n",
    "        else:\n",
    "            print('Algo inesperado ha ocurrido, se ha devuelto el código de estado:', response.status_code,' y como razón del código de estado: ',response.reason) \n"
   ]
  },
  {
   "cell_type": "code",
   "execution_count": 198,
   "metadata": {},
   "outputs": [
    {
     "data": {
      "text/html": [
       "<div>\n",
       "<style scoped>\n",
       "    .dataframe tbody tr th:only-of-type {\n",
       "        vertical-align: middle;\n",
       "    }\n",
       "\n",
       "    .dataframe tbody tr th {\n",
       "        vertical-align: top;\n",
       "    }\n",
       "\n",
       "    .dataframe thead th {\n",
       "        text-align: right;\n",
       "    }\n",
       "</style>\n",
       "<table border=\"1\" class=\"dataframe\">\n",
       "  <thead>\n",
       "    <tr style=\"text-align: right;\">\n",
       "      <th></th>\n",
       "      <th>timepoint</th>\n",
       "      <th>cloudcover</th>\n",
       "      <th>highcloud</th>\n",
       "      <th>midcloud</th>\n",
       "      <th>lowcloud</th>\n",
       "      <th>rh_profile</th>\n",
       "      <th>wind_profile</th>\n",
       "      <th>temp2m</th>\n",
       "      <th>lifted_index</th>\n",
       "      <th>rh2m</th>\n",
       "      <th>msl_pressure</th>\n",
       "      <th>prec_type</th>\n",
       "      <th>prec_amount</th>\n",
       "      <th>snow_depth</th>\n",
       "      <th>wind10m.direction</th>\n",
       "      <th>wind10m.speed</th>\n",
       "      <th>pais</th>\n",
       "    </tr>\n",
       "  </thead>\n",
       "  <tbody>\n",
       "    <tr>\n",
       "      <th>0</th>\n",
       "      <td>3</td>\n",
       "      <td>1</td>\n",
       "      <td>-9999</td>\n",
       "      <td>-9999</td>\n",
       "      <td>-9999</td>\n",
       "      <td>[{'layer': '950mb', 'rh': 13}, {'layer': '900m...</td>\n",
       "      <td>[{'layer': '950mb', 'direction': 85, 'speed': ...</td>\n",
       "      <td>26</td>\n",
       "      <td>-1</td>\n",
       "      <td>12</td>\n",
       "      <td>1012</td>\n",
       "      <td>none</td>\n",
       "      <td>0</td>\n",
       "      <td>0</td>\n",
       "      <td>95</td>\n",
       "      <td>3</td>\n",
       "      <td>papua new guinea</td>\n",
       "    </tr>\n",
       "    <tr>\n",
       "      <th>1</th>\n",
       "      <td>6</td>\n",
       "      <td>1</td>\n",
       "      <td>-9999</td>\n",
       "      <td>-9999</td>\n",
       "      <td>-9999</td>\n",
       "      <td>[{'layer': '950mb', 'rh': 14}, {'layer': '900m...</td>\n",
       "      <td>[{'layer': '950mb', 'direction': 100, 'speed':...</td>\n",
       "      <td>26</td>\n",
       "      <td>-1</td>\n",
       "      <td>12</td>\n",
       "      <td>1011</td>\n",
       "      <td>none</td>\n",
       "      <td>0</td>\n",
       "      <td>0</td>\n",
       "      <td>105</td>\n",
       "      <td>3</td>\n",
       "      <td>papua new guinea</td>\n",
       "    </tr>\n",
       "    <tr>\n",
       "      <th>2</th>\n",
       "      <td>9</td>\n",
       "      <td>1</td>\n",
       "      <td>-9999</td>\n",
       "      <td>-9999</td>\n",
       "      <td>-9999</td>\n",
       "      <td>[{'layer': '950mb', 'rh': 15}, {'layer': '900m...</td>\n",
       "      <td>[{'layer': '950mb', 'direction': 115, 'speed':...</td>\n",
       "      <td>26</td>\n",
       "      <td>-1</td>\n",
       "      <td>11</td>\n",
       "      <td>1012</td>\n",
       "      <td>none</td>\n",
       "      <td>1</td>\n",
       "      <td>0</td>\n",
       "      <td>110</td>\n",
       "      <td>4</td>\n",
       "      <td>papua new guinea</td>\n",
       "    </tr>\n",
       "    <tr>\n",
       "      <th>3</th>\n",
       "      <td>12</td>\n",
       "      <td>1</td>\n",
       "      <td>-9999</td>\n",
       "      <td>-9999</td>\n",
       "      <td>-9999</td>\n",
       "      <td>[{'layer': '950mb', 'rh': 14}, {'layer': '900m...</td>\n",
       "      <td>[{'layer': '950mb', 'direction': 105, 'speed':...</td>\n",
       "      <td>26</td>\n",
       "      <td>-1</td>\n",
       "      <td>12</td>\n",
       "      <td>1013</td>\n",
       "      <td>none</td>\n",
       "      <td>1</td>\n",
       "      <td>0</td>\n",
       "      <td>105</td>\n",
       "      <td>4</td>\n",
       "      <td>papua new guinea</td>\n",
       "    </tr>\n",
       "    <tr>\n",
       "      <th>4</th>\n",
       "      <td>15</td>\n",
       "      <td>3</td>\n",
       "      <td>-9999</td>\n",
       "      <td>-9999</td>\n",
       "      <td>-9999</td>\n",
       "      <td>[{'layer': '950mb', 'rh': 14}, {'layer': '900m...</td>\n",
       "      <td>[{'layer': '950mb', 'direction': 100, 'speed':...</td>\n",
       "      <td>26</td>\n",
       "      <td>-1</td>\n",
       "      <td>11</td>\n",
       "      <td>1012</td>\n",
       "      <td>none</td>\n",
       "      <td>1</td>\n",
       "      <td>0</td>\n",
       "      <td>100</td>\n",
       "      <td>3</td>\n",
       "      <td>papua new guinea</td>\n",
       "    </tr>\n",
       "  </tbody>\n",
       "</table>\n",
       "</div>"
      ],
      "text/plain": [
       "   timepoint  cloudcover  highcloud  midcloud  lowcloud  \\\n",
       "0          3           1      -9999     -9999     -9999   \n",
       "1          6           1      -9999     -9999     -9999   \n",
       "2          9           1      -9999     -9999     -9999   \n",
       "3         12           1      -9999     -9999     -9999   \n",
       "4         15           3      -9999     -9999     -9999   \n",
       "\n",
       "                                          rh_profile  \\\n",
       "0  [{'layer': '950mb', 'rh': 13}, {'layer': '900m...   \n",
       "1  [{'layer': '950mb', 'rh': 14}, {'layer': '900m...   \n",
       "2  [{'layer': '950mb', 'rh': 15}, {'layer': '900m...   \n",
       "3  [{'layer': '950mb', 'rh': 14}, {'layer': '900m...   \n",
       "4  [{'layer': '950mb', 'rh': 14}, {'layer': '900m...   \n",
       "\n",
       "                                        wind_profile  temp2m  lifted_index  \\\n",
       "0  [{'layer': '950mb', 'direction': 85, 'speed': ...      26            -1   \n",
       "1  [{'layer': '950mb', 'direction': 100, 'speed':...      26            -1   \n",
       "2  [{'layer': '950mb', 'direction': 115, 'speed':...      26            -1   \n",
       "3  [{'layer': '950mb', 'direction': 105, 'speed':...      26            -1   \n",
       "4  [{'layer': '950mb', 'direction': 100, 'speed':...      26            -1   \n",
       "\n",
       "   rh2m  msl_pressure prec_type  prec_amount  snow_depth wind10m.direction  \\\n",
       "0    12          1012      none            0           0                95   \n",
       "1    12          1011      none            0           0               105   \n",
       "2    11          1012      none            1           0               110   \n",
       "3    12          1013      none            1           0               105   \n",
       "4    11          1012      none            1           0               100   \n",
       "\n",
       "   wind10m.speed              pais  \n",
       "0              3  papua new guinea  \n",
       "1              3  papua new guinea  \n",
       "2              4  papua new guinea  \n",
       "3              4  papua new guinea  \n",
       "4              3  papua new guinea  "
      ]
     },
     "execution_count": 198,
     "metadata": {},
     "output_type": "execute_result"
    }
   ],
   "source": [
    "df_meteo.head()"
   ]
  },
  {
   "cell_type": "code",
   "execution_count": 199,
   "metadata": {},
   "outputs": [
    {
     "data": {
      "text/plain": [
       "(320, 17)"
      ]
     },
     "execution_count": 199,
     "metadata": {},
     "output_type": "execute_result"
    }
   ],
   "source": [
    "df_meteo.shape"
   ]
  },
  {
   "cell_type": "code",
   "execution_count": 200,
   "metadata": {},
   "outputs": [
    {
     "data": {
      "text/plain": [
       "array(['papua new guinea', 'new zealand', 'south africa', 'australia',\n",
       "       'usa'], dtype=object)"
      ]
     },
     "execution_count": 200,
     "metadata": {},
     "output_type": "execute_result"
    }
   ],
   "source": [
    "df_meteo[\"pais\"].unique()"
   ]
  },
  {
   "cell_type": "code",
   "execution_count": 201,
   "metadata": {},
   "outputs": [],
   "source": [
    "df_meteo.to_csv(\"etl1.csv\")"
   ]
  }
 ],
 "metadata": {
  "kernelspec": {
   "display_name": "Python 3.10.8 ('adalabenv')",
   "language": "python",
   "name": "python3"
  },
  "language_info": {
   "codemirror_mode": {
    "name": "ipython",
    "version": 3
   },
   "file_extension": ".py",
   "mimetype": "text/x-python",
   "name": "python",
   "nbconvert_exporter": "python",
   "pygments_lexer": "ipython3",
   "version": "3.10.8 (main, Nov  4 2022, 13:48:29) [GCC 11.2.0]"
  },
  "orig_nbformat": 4,
  "vscode": {
   "interpreter": {
    "hash": "b09caf96bf0d00c87bf22d52d5d9b835bbcda673d84b7b1547b87932947942a4"
   }
  }
 },
 "nbformat": 4,
 "nbformat_minor": 2
}
