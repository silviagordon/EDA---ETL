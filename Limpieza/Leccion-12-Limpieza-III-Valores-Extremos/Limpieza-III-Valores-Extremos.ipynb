{
 "cells": [
  {
   "attachments": {},
   "cell_type": "markdown",
   "metadata": {},
   "source": [
    "# Ejercicios Pair Programming - Módulo 2 Sprint 2\n",
    "## Lección 13 - Limpieza III "
   ]
  },
  {
   "attachments": {},
   "cell_type": "markdown",
   "metadata": {},
   "source": [
    "Antes de seguir, recordamos las preguntas que nos planteamos al principio del pair programming de EDA para dirigir nuestro análisis.\n",
    "\n",
    "¿Es Australia es el sitio más peligroso y letal para estar relajada en la playa?\n",
    "\n",
    "¿Cuál es el rango de edad que sufre la mayoría de los ataques?\n",
    "\n",
    "Independientemente de la edad, sufren los hombres más ataques que las mujeres?\n",
    "\n",
    "¿En qué mes ocurren más ataques?\n",
    "\n",
    "¿Cuál es la relación entre la especie y el tipo de ataque (si es fatal o no)?\n",
    "\n",
    "¿Cómo han evolucionado los ataques a lo largo del tiempo?\n",
    "\n",
    "De todo esto, nos damos cuenta que solo tenemos que limpiar algunas de las columnas, en concreto age, species, country, fatal, year, sex. Si reducimos esto a una tabla para saber que tenemos ya limpito y que no. **Actualizamos esta tabla ya que en el ejercicio de pair de Limpieza I ya dejamos algunas columnas limpitas:\n",
    "\n",
    "variable\n",
    "\n",
    "¿Está limpia?\n",
    "\n",
    "age\n",
    "\n",
    "✔️ esta en formato string cuando debería ser integer y en algunos casos tenemos rangos de edad\n",
    "\n",
    "species\n",
    "\n",
    "✔️ es un jaleo! Debemos unificar los nombres y reducir a las especies más importantes\n",
    "\n",
    "country\n",
    "\n",
    "✔️ los paises están en mayúsculas, algunos se repiten con algunos cambios\n",
    "\n",
    "fatal\n",
    "\n",
    "✔️ la limpiamos en el pair de Pandas V\n",
    "\n",
    "year\n",
    "\n",
    "✔️ es una columna de tipo float deberíamos convertirla a integer\n",
    "\n",
    "sex\n",
    "\n",
    "✔️ la limpiamos en el pair de Pandas V\n",
    "\n",
    "fecha\n",
    "\n",
    "✔️ la limpiamos en el pair de Pandas V\n",
    "​ "
   ]
  },
  {
   "cell_type": "code",
   "execution_count": 103,
   "metadata": {},
   "outputs": [],
   "source": [
    "import pandas as pd\n",
    "import matplotlib.pyplot as plt\n",
    "import seaborn as sns\n",
    "import numpy as np"
   ]
  },
  {
   "cell_type": "code",
   "execution_count": 104,
   "metadata": {},
   "outputs": [
    {
     "data": {
      "text/html": [
       "<div>\n",
       "<style scoped>\n",
       "    .dataframe tbody tr th:only-of-type {\n",
       "        vertical-align: middle;\n",
       "    }\n",
       "\n",
       "    .dataframe tbody tr th {\n",
       "        vertical-align: top;\n",
       "    }\n",
       "\n",
       "    .dataframe thead th {\n",
       "        text-align: right;\n",
       "    }\n",
       "</style>\n",
       "<table border=\"1\" class=\"dataframe\">\n",
       "  <thead>\n",
       "    <tr style=\"text-align: right;\">\n",
       "      <th></th>\n",
       "      <th>year</th>\n",
       "      <th>type</th>\n",
       "      <th>country</th>\n",
       "      <th>activity</th>\n",
       "      <th>age</th>\n",
       "      <th>species_</th>\n",
       "      <th>mes</th>\n",
       "      <th>fatal</th>\n",
       "      <th>sex</th>\n",
       "      <th>especie_tiburon</th>\n",
       "      <th>age_ok</th>\n",
       "    </tr>\n",
       "  </thead>\n",
       "  <tbody>\n",
       "    <tr>\n",
       "      <th>0</th>\n",
       "      <td>2018</td>\n",
       "      <td>Boating</td>\n",
       "      <td>usa</td>\n",
       "      <td>Paddling</td>\n",
       "      <td>57</td>\n",
       "      <td>White shark</td>\n",
       "      <td>Jun</td>\n",
       "      <td>N</td>\n",
       "      <td>F</td>\n",
       "      <td>White shark</td>\n",
       "      <td>57.0</td>\n",
       "    </tr>\n",
       "    <tr>\n",
       "      <th>1</th>\n",
       "      <td>2018</td>\n",
       "      <td>Unprovoked</td>\n",
       "      <td>brazil</td>\n",
       "      <td>Swimming</td>\n",
       "      <td>18</td>\n",
       "      <td>Tiger shark</td>\n",
       "      <td>Jun</td>\n",
       "      <td>Y</td>\n",
       "      <td>M</td>\n",
       "      <td>Tiger shark</td>\n",
       "      <td>18.0</td>\n",
       "    </tr>\n",
       "  </tbody>\n",
       "</table>\n",
       "</div>"
      ],
      "text/plain": [
       "   year        type country  activity age     species_  mes fatal sex  \\\n",
       "0  2018     Boating     usa  Paddling  57  White shark  Jun     N   F   \n",
       "1  2018  Unprovoked  brazil  Swimming  18  Tiger shark  Jun     Y   M   \n",
       "\n",
       "  especie_tiburon  age_ok  \n",
       "0     White shark    57.0  \n",
       "1     Tiger shark    18.0  "
      ]
     },
     "execution_count": 104,
     "metadata": {},
     "output_type": "execute_result"
    }
   ],
   "source": [
    "df = pd.read_csv(\"limpieza2.csv\", index_col = 0)\n",
    "df.head(2)"
   ]
  },
  {
   "attachments": {},
   "cell_type": "markdown",
   "metadata": {},
   "source": [
    "Ya hemos limpiado todas las columnas que parecía que no tenían el tipo de dato que queríamos o que tenían demasiada información.\n",
    "\n",
    "Por lo tanto, en este ejercicio tendremos que limpiar los outliers.\n",
    "\n",
    "1.- ¿Sobre qué columnas podremos eliminar o reemplazar los outliers?\n"
   ]
  },
  {
   "attachments": {},
   "cell_type": "markdown",
   "metadata": {},
   "source": [
    "Los outliers solo se pueden eliminar en las columnas numéricas que son:"
   ]
  },
  {
   "cell_type": "code",
   "execution_count": 105,
   "metadata": {},
   "outputs": [
    {
     "data": {
      "text/html": [
       "<div>\n",
       "<style scoped>\n",
       "    .dataframe tbody tr th:only-of-type {\n",
       "        vertical-align: middle;\n",
       "    }\n",
       "\n",
       "    .dataframe tbody tr th {\n",
       "        vertical-align: top;\n",
       "    }\n",
       "\n",
       "    .dataframe thead th {\n",
       "        text-align: right;\n",
       "    }\n",
       "</style>\n",
       "<table border=\"1\" class=\"dataframe\">\n",
       "  <thead>\n",
       "    <tr style=\"text-align: right;\">\n",
       "      <th></th>\n",
       "      <th>year</th>\n",
       "      <th>age_ok</th>\n",
       "    </tr>\n",
       "  </thead>\n",
       "  <tbody>\n",
       "    <tr>\n",
       "      <th>0</th>\n",
       "      <td>2018</td>\n",
       "      <td>57.0</td>\n",
       "    </tr>\n",
       "    <tr>\n",
       "      <th>1</th>\n",
       "      <td>2018</td>\n",
       "      <td>18.0</td>\n",
       "    </tr>\n",
       "  </tbody>\n",
       "</table>\n",
       "</div>"
      ],
      "text/plain": [
       "   year  age_ok\n",
       "0  2018    57.0\n",
       "1  2018    18.0"
      ]
     },
     "execution_count": 105,
     "metadata": {},
     "output_type": "execute_result"
    }
   ],
   "source": [
    "df_numericas = df.select_dtypes(include = np.number)\n",
    "df_numericas.head(2)"
   ]
  },
  {
   "attachments": {},
   "cell_type": "markdown",
   "metadata": {},
   "source": [
    "2.- Identifica visualmente los outliers"
   ]
  },
  {
   "cell_type": "code",
   "execution_count": 106,
   "metadata": {},
   "outputs": [
    {
     "data": {
      "image/png": "[encoded data removed]",
      "text/plain": [
       "<Figure size 800x1000 with 2 Axes>"
      ]
     },
     "metadata": {},
     "output_type": "display_data"
    }
   ],
   "source": [
    "fig, ax = plt.subplots(2, 1, figsize=(8,10))\n",
    "\n",
    "for i, col in enumerate(df_numericas.columns):\n",
    "    sns.boxplot(x = df_numericas[col], data=df_numericas, ax=ax[i])\n",
    "plt.show()"
   ]
  },
  {
   "attachments": {},
   "cell_type": "markdown",
   "metadata": {},
   "source": [
    "Como observamos en el boxplot de edades, solo hay outliers en el límite superior, son personas de edad avanzada.\n",
    "\n",
    "En el boxplot de year podemos deducir que hay errores en la introduccion de los datos, años con valor inferior a 1500, y por otro lado, que empieza a haber un registro de los mismos a partir del año 1550 al 1850."
   ]
  },
  {
   "attachments": {},
   "cell_type": "markdown",
   "metadata": {},
   "source": [
    "3.- Identifica sobre el dataframe las filas que son outliers"
   ]
  },
  {
   "cell_type": "code",
   "execution_count": 107,
   "metadata": {},
   "outputs": [],
   "source": [
    "# Función para detectar outliers\n",
    "def detectar_outliers(lista_columnas, dataframe):\n",
    "    # Diccionario para almacenar los índices de los outliers\n",
    "    dicc_indices = {}\n",
    "    # Iterar por la lista de las columnas numéricas del dataframe\n",
    "    for col in lista_columnas:\n",
    "        # Calcular los cuartiles Q1 y Q3\n",
    "        Q1 = np.nanpercentile(dataframe[col], 25)\n",
    "        Q3 = np.nanpercentile(dataframe[col], 75)\n",
    "        # Calcular el rango intercuartilico\n",
    "        IQR = Q3 - Q1\n",
    "        # Para calcular el limite\n",
    "        outlier_step = 1.5 * IQR\n",
    "        # Filtrar el dataframe para identificar los outliers\n",
    "        df_outliers = dataframe[(dataframe[col] < Q1 - outlier_step) | (dataframe[col] > Q3 + outlier_step)]\n",
    "        # Si el DataFrame de outliers tiene algún registro\n",
    "        if df_outliers.shape[0] > 0:\n",
    "            # Insertar en el diccionario la columna y los índices outliers\n",
    "            dicc_indices[col] = list(df_outliers.index)\n",
    "    return dicc_indices"
   ]
  },
  {
   "cell_type": "code",
   "execution_count": 108,
   "metadata": {},
   "outputs": [
    {
     "data": {
      "text/plain": [
       "['year', 'age_ok']"
      ]
     },
     "execution_count": 108,
     "metadata": {},
     "output_type": "execute_result"
    }
   ],
   "source": [
    "lista_columna_numerica = list(df_numericas.columns)\n",
    "lista_columna_numerica"
   ]
  },
  {
   "cell_type": "code",
   "execution_count": 109,
   "metadata": {},
   "outputs": [],
   "source": [
    "dicc_indices_outlier = detectar_outliers(lista_columna_numerica, df_numericas)"
   ]
  },
  {
   "cell_type": "code",
   "execution_count": 110,
   "metadata": {},
   "outputs": [
    {
     "name": "stdout",
     "output_type": "stream",
     "text": [
      "{'year': [1498, 1499, 1500, 1501, 1502, 1503, 1504, 1505, 1506, 1507, 1508, 1509, 1510, 1511, 1512, 1513, 1514, 1515, 1516, 1517, 1518, 1519, 1520, 1521, 1522, 1523, 1524, 1525, 1526, 1527, 1528, 1529, 1530, 1531, 1532, 1533, 1534, 1535, 1536, 1537, 1538, 1539, 1540, 1541, 1542, 1543, 1544, 1545, 1546, 1547, 1548, 1549, 1550, 1551, 1552, 1553, 1554, 1555, 1556, 1557, 1558, 1559, 1560, 1561, 1562, 1563, 1564, 1565, 1566, 1567, 1568, 1569, 1570, 1571, 1572, 1573, 1574, 1575, 1576, 1577, 1578, 1579, 1580, 1581, 1582, 1583, 1584, 1585, 1586, 1587, 1588, 1589, 1590, 1591, 1592, 1593, 1594, 1595, 1596, 1597, 1598, 1599, 1600, 1602, 1603, 1604, 1605, 1606, 1607, 1608, 1609, 1610, 1611, 1612, 1613, 1614, 1615, 1616, 1617, 1618, 1619, 1620, 1621, 1622, 1623, 1624, 1625, 1626, 1627, 1628, 1629, 1630, 1631, 1632, 1633, 1634, 1635, 1636, 1637, 1638, 1639, 1640, 1641, 1642, 1643, 1644, 1645, 1646, 1647, 1648, 1649, 1651, 1652, 1653, 1654, 1655, 1656, 1657, 1659, 1660, 1661, 1662, 1663, 1665, 1666, 1667, 1668, 1669, 1670, 1671], 'age_ok': [12, 30, 51, 80, 84, 121, 139, 141, 184, 202, 229, 326, 329, 352, 433, 487, 559, 589, 668, 754, 769, 917, 929, 1047, 1059, 1433]}\n"
     ]
    }
   ],
   "source": [
    "print(dicc_indices_outlier)"
   ]
  },
  {
   "attachments": {},
   "cell_type": "markdown",
   "metadata": {},
   "source": [
    "4.- Reemplaza los outliers por el estadístico más correcto."
   ]
  },
  {
   "cell_type": "code",
   "execution_count": 111,
   "metadata": {},
   "outputs": [],
   "source": [
    "# Creamos una copia del dataframe numérico para sustituir en el los valores outliers con la mediana.\n",
    "df_numericas_sin_outlier = df_numericas.copy()"
   ]
  },
  {
   "cell_type": "code",
   "execution_count": 112,
   "metadata": {},
   "outputs": [],
   "source": [
    "for k, v in dicc_indices_outlier.items():\n",
    "    # Calcular la mediana de las columnas en el dataframe\n",
    "    mediana = df[k].median()\n",
    "    # Iterar por los indices de la lista de valores de cada columna\n",
    "    for i in v:\n",
    "        # Utilizando loc, reemplazamos los valores de los outliers\n",
    "        df_numericas_sin_outlier.loc[i,k] = mediana"
   ]
  },
  {
   "cell_type": "code",
   "execution_count": 113,
   "metadata": {},
   "outputs": [
    {
     "data": {
      "image/png": "[encoded data removed]",
      "text/plain": [
       "<Figure size 800x1000 with 2 Axes>"
      ]
     },
     "metadata": {},
     "output_type": "display_data"
    }
   ],
   "source": [
    "# Mostramos el dataframe sin outliers\n",
    "fig, ax = plt.subplots(2, 1, figsize=(8,10))\n",
    "\n",
    "for i, col in enumerate(df_numericas_sin_outlier.columns):\n",
    "    sns.boxplot(x = df_numericas_sin_outlier[col], data=df_numericas_sin_outlier, ax=ax[i])\n",
    "plt.show()"
   ]
  },
  {
   "attachments": {},
   "cell_type": "markdown",
   "metadata": {},
   "source": [
    "Como observamos ya hemos sustituido los outliers por la mediana, pero ahora nos vuelven a aparecer otros outliers, ya que el valor de la mediana se ha modificado. Tenemos menos outliers que al principio y mucho más cercanos a los límites inferior y superior. Incluso en la columna \"age_ok\" solo quedan 2 outliers pudiendose éstos eliminar porque no afectaría a nuestro análisis."
   ]
  },
  {
   "attachments": {},
   "cell_type": "markdown",
   "metadata": {},
   "source": [
    "5.- Guarda el csv con las columnas limpias para seguir trabajando con este dataframe limpio en el siguiente pair programming de limpieza."
   ]
  },
  {
   "cell_type": "code",
   "execution_count": 114,
   "metadata": {},
   "outputs": [
    {
     "data": {
      "text/html": [
       "<div>\n",
       "<style scoped>\n",
       "    .dataframe tbody tr th:only-of-type {\n",
       "        vertical-align: middle;\n",
       "    }\n",
       "\n",
       "    .dataframe tbody tr th {\n",
       "        vertical-align: top;\n",
       "    }\n",
       "\n",
       "    .dataframe thead th {\n",
       "        text-align: right;\n",
       "    }\n",
       "</style>\n",
       "<table border=\"1\" class=\"dataframe\">\n",
       "  <thead>\n",
       "    <tr style=\"text-align: right;\">\n",
       "      <th></th>\n",
       "      <th>type</th>\n",
       "      <th>country</th>\n",
       "      <th>activity</th>\n",
       "      <th>age</th>\n",
       "      <th>species_</th>\n",
       "      <th>mes</th>\n",
       "      <th>fatal</th>\n",
       "      <th>sex</th>\n",
       "      <th>especie_tiburon</th>\n",
       "      <th>year</th>\n",
       "      <th>age_ok</th>\n",
       "    </tr>\n",
       "  </thead>\n",
       "  <tbody>\n",
       "    <tr>\n",
       "      <th>0</th>\n",
       "      <td>Boating</td>\n",
       "      <td>usa</td>\n",
       "      <td>Paddling</td>\n",
       "      <td>57</td>\n",
       "      <td>White shark</td>\n",
       "      <td>Jun</td>\n",
       "      <td>N</td>\n",
       "      <td>F</td>\n",
       "      <td>White shark</td>\n",
       "      <td>2018</td>\n",
       "      <td>57.0</td>\n",
       "    </tr>\n",
       "    <tr>\n",
       "      <th>1</th>\n",
       "      <td>Unprovoked</td>\n",
       "      <td>brazil</td>\n",
       "      <td>Swimming</td>\n",
       "      <td>18</td>\n",
       "      <td>Tiger shark</td>\n",
       "      <td>Jun</td>\n",
       "      <td>Y</td>\n",
       "      <td>M</td>\n",
       "      <td>Tiger shark</td>\n",
       "      <td>2018</td>\n",
       "      <td>18.0</td>\n",
       "    </tr>\n",
       "    <tr>\n",
       "      <th>2</th>\n",
       "      <td>Unprovoked</td>\n",
       "      <td>usa</td>\n",
       "      <td>Walking</td>\n",
       "      <td>15</td>\n",
       "      <td>Bull shark, 6'</td>\n",
       "      <td>May</td>\n",
       "      <td>N</td>\n",
       "      <td>M</td>\n",
       "      <td>Bull shark</td>\n",
       "      <td>2018</td>\n",
       "      <td>15.0</td>\n",
       "    </tr>\n",
       "    <tr>\n",
       "      <th>3</th>\n",
       "      <td>Provoked</td>\n",
       "      <td>australia</td>\n",
       "      <td>Feeding sharks</td>\n",
       "      <td>32</td>\n",
       "      <td>Grey reef shark</td>\n",
       "      <td>May</td>\n",
       "      <td>N</td>\n",
       "      <td>M</td>\n",
       "      <td>Grey shark</td>\n",
       "      <td>2018</td>\n",
       "      <td>32.0</td>\n",
       "    </tr>\n",
       "    <tr>\n",
       "      <th>4</th>\n",
       "      <td>Invalid</td>\n",
       "      <td>england</td>\n",
       "      <td>Fishing</td>\n",
       "      <td>21</td>\n",
       "      <td>Invalid incident</td>\n",
       "      <td>May</td>\n",
       "      <td>N</td>\n",
       "      <td>M</td>\n",
       "      <td>Unspecified</td>\n",
       "      <td>2018</td>\n",
       "      <td>21.0</td>\n",
       "    </tr>\n",
       "  </tbody>\n",
       "</table>\n",
       "</div>"
      ],
      "text/plain": [
       "         type    country        activity age          species_  mes fatal sex  \\\n",
       "0     Boating        usa        Paddling  57       White shark  Jun     N   F   \n",
       "1  Unprovoked     brazil        Swimming  18       Tiger shark  Jun     Y   M   \n",
       "2  Unprovoked        usa         Walking  15    Bull shark, 6'  May     N   M   \n",
       "3    Provoked  australia  Feeding sharks  32   Grey reef shark  May     N   M   \n",
       "4     Invalid    england         Fishing  21  Invalid incident  May     N   M   \n",
       "\n",
       "  especie_tiburon  year  age_ok  \n",
       "0     White shark  2018    57.0  \n",
       "1     Tiger shark  2018    18.0  \n",
       "2      Bull shark  2018    15.0  \n",
       "3      Grey shark  2018    32.0  \n",
       "4     Unspecified  2018    21.0  "
      ]
     },
     "execution_count": 114,
     "metadata": {},
     "output_type": "execute_result"
    }
   ],
   "source": [
    "# creamos una copia del dataframe original, le eliminamos las columnas numéricas y le \n",
    "# añadimos el dataframe numérico sin outliers\n",
    "\n",
    "df_final = df.copy()\n",
    "df_final.drop(lista_columna_numerica, axis = 1, inplace = True)\n",
    "df_final = df_final.join(df_numericas_sin_outlier, how = 'inner')\n",
    "df_final.head()"
   ]
  },
  {
   "cell_type": "code",
   "execution_count": 115,
   "metadata": {},
   "outputs": [],
   "source": [
    "df_final.to_csv(\"limpieza3.csv\")"
   ]
  },
  {
   "cell_type": "markdown",
   "metadata": {},
   "source": [
    "Happy coding 🦈"
   ]
  }
 ],
 "metadata": {
  "kernelspec": {
   "display_name": "adalabenv",
   "language": "python",
   "name": "python3"
  },
  "language_info": {
   "codemirror_mode": {
    "name": "ipython",
    "version": 3
   },
   "file_extension": ".py",
   "mimetype": "text/x-python",
   "name": "python",
   "nbconvert_exporter": "python",
   "pygments_lexer": "ipython3",
   "version": "3.10.8"
  },
  "orig_nbformat": 4,
  "vscode": {
   "interpreter": {
    "hash": "b09caf96bf0d00c87bf22d52d5d9b835bbcda673d84b7b1547b87932947942a4"
   }
  }
 },
 "nbformat": 4,
 "nbformat_minor": 2
}
